{
 "cells": [
  {
   "cell_type": "code",
   "execution_count": 1,
   "metadata": {},
   "outputs": [
    {
     "name": "stdout",
     "output_type": "stream",
     "text": [
      "\u001b[H\u001b[2J"
     ]
    },
    {
     "name": "stderr",
     "output_type": "stream",
     "text": [
      "/home/ubuntu/anaconda3/envs/scribeaudio/lib/python3.8/site-packages/tqdm/auto.py:22: TqdmWarning: IProgress not found. Please update jupyter and ipywidgets. See https://ipywidgets.readthedocs.io/en/stable/user_install.html\n",
      "  from .autonotebook import tqdm as notebook_tqdm\n"
     ]
    },
    {
     "name": "stdout",
     "output_type": "stream",
     "text": [
      "\u001b[H\u001b[2J"
     ]
    },
    {
     "data": {
      "text/plain": [
       "<All keys matched successfully>"
      ]
     },
     "execution_count": 1,
     "metadata": {},
     "output_type": "execute_result"
    }
   ],
   "source": [
    "import os\n",
    "os.system('clear')\n",
    "\n",
    "import torch \n",
    "from hf_ar.model import GPTModelCIFAR\n",
    "from transformers import GPT2Config, GPT2PreTrainedModel, LogitsProcessorList, LogitsWarper, GPT2LMHeadModel\n",
    "import einops\n",
    "from ar_inference import GPT2InferenceModel\n",
    "import matplotlib.pyplot as plt\n",
    "\n",
    "\n",
    "from vqvae import VQVAE\n",
    "\n",
    "vq_ckpt_path = '/home/ubuntu/VQVAE/vq-vae-2-pytorch/checkpoint/vqvae_073.pt'\n",
    "vqvae   = VQVAE()\n",
    "\n",
    "vqvae.load_state_dict(torch.load(vq_ckpt_path))\n",
    "\n",
    "\n",
    "from dataset import LMDBDataset\n",
    "datset_path = '/home/ubuntu/VQVAE/vq-vae-2-pytorch/exp1'\n",
    "dataset = LMDBDataset(datset_path)\n",
    "loader = torch.utils.data.DataLoader(\n",
    "    dataset, batch_size=4, shuffle=True, num_workers=4, drop_last=True\n",
    ")\n",
    "\n",
    "batch = next(iter(loader))\n",
    "\n",
    "model = GPTModelCIFAR(heads=16, layers=8)\n",
    "model_ckpt= '/home/ubuntu/VQVAE/vq-vae-2-pytorch/hf_ar/ckpt/model_11.pth'\n",
    "model.load_state_dict(torch.load(model_ckpt))"
   ]
  },
  {
   "cell_type": "code",
   "execution_count": 2,
   "metadata": {},
   "outputs": [
    {
     "data": {
      "text/plain": [
       "tensor([[9],\n",
       "        [3],\n",
       "        [9],\n",
       "        [5]])"
      ]
     },
     "execution_count": 2,
     "metadata": {},
     "output_type": "execute_result"
    }
   ],
   "source": [
    "top, bottom, class_label = batch\n",
    "top          = einops.rearrange(top, 'b h w -> b (h w)')\n",
    "bottom       = einops.rearrange(bottom, 'b h w -> b (h w)') \n",
    "\n",
    "top_index       = top.size(-1) \n",
    "bottom_index    = bottom.size(-1) \n",
    "\n",
    "fake_input = torch.ones((1,29)).long()\n",
    "\n",
    "\n",
    "emb = torch.cat((top,bottom), dim = -1)\n",
    "emb_orig = emb\n",
    "emb = emb[0][:10].unsqueeze(0)\n",
    "emb, fake_input\n",
    "\n",
    "class_label\n"
   ]
  },
  {
   "cell_type": "code",
   "execution_count": 9,
   "metadata": {},
   "outputs": [
    {
     "name": "stdout",
     "output_type": "stream",
     "text": [
      "torch.Size([10, 1])\n"
     ]
    },
    {
     "data": {
      "text/plain": [
       "torch.Size([1, 82])"
      ]
     },
     "execution_count": 9,
     "metadata": {},
     "output_type": "execute_result"
    }
   ],
   "source": [
    "logits_processor = LogitsProcessorList()\n",
    "model.gpt.wte = model.embedding\n",
    "inference_model = GPT2InferenceModel(\n",
    "    model.gpt_config,\n",
    "    model.gpt,\n",
    "    model.wpe,\n",
    "    model.embedding,\n",
    "    model.final_norm,\n",
    "    model.head\n",
    "    )\n",
    "\n",
    "class_label = torch.tensor([[9],\n",
    "        [8],\n",
    "        [7],\n",
    "        [6],\n",
    "        [5],\n",
    "        [4],\n",
    "        [3],\n",
    "        [2],\n",
    "        [1],\n",
    "        [0]])\n",
    "print(class_label.size())\n",
    "class_emb = model.class_embedding(class_label)\n",
    "\n",
    "class_emb = class_emb[2]\n",
    "inference_model.store_emb(class_emb)\n",
    "\n",
    "\n",
    "logits_processor = LogitsProcessorList()\n",
    "\n",
    "\n",
    "inputs = torch.ones((1,2)).long()\n",
    "gen = inference_model.generate(inputs, bos_token_id=1024, pad_token_id=1025, eos_token_id=1025,\n",
    "                                max_length=83, logits_processor=logits_processor,\n",
    "                                num_return_sequences=1, temperature=0.65, top_p=0.9)\n",
    "gen.size()"
   ]
  },
  {
   "cell_type": "code",
   "execution_count": 7,
   "metadata": {},
   "outputs": [
    {
     "data": {
      "text/plain": [
       "torch.Size([1, 83])"
      ]
     },
     "execution_count": 7,
     "metadata": {},
     "output_type": "execute_result"
    }
   ],
   "source": [
    "\n"
   ]
  },
  {
   "cell_type": "code",
   "execution_count": 10,
   "metadata": {},
   "outputs": [
    {
     "data": {
      "text/plain": [
       "<matplotlib.image.AxesImage at 0x7faef0077ac0>"
      ]
     },
     "execution_count": 10,
     "metadata": {},
     "output_type": "execute_result"
    },
    {
     "data": {
      "image/png": "[encoded data removed]",
      "text/plain": [
       "<Figure size 432x288 with 1 Axes>"
      ]
     },
     "metadata": {
      "needs_background": "light"
     },
     "output_type": "display_data"
    }
   ],
   "source": [
    "gen_ = gen[:,1:-1]\n",
    "\n",
    "t_codes = gen_[:,:16].reshape(1,4,4)\n",
    "t_codes.size()\n",
    "\n",
    "b_codes = gen_[:,16:80].reshape(1,8,8) - 512\n",
    "b_codes.size()\n",
    "\n",
    "dec = vqvae.decode_code(t_codes, b_codes)\n",
    "dec = dec.permute(0,2,3,1)\n",
    "dec.size()\n",
    "\n",
    "plt.imshow(dec.squeeze().detach().cpu().numpy())"
   ]
  },
  {
   "cell_type": "code",
   "execution_count": 160,
   "metadata": {},
   "outputs": [
    {
     "data": {
      "text/plain": [
       "tensor([[[-496, -496, -496, -496, -496, -496, -496, -496],\n",
       "         [-496,    3,  120,  120,  151,  120,  120,   26],\n",
       "         [ 120,  120,  151,  151,  151,  120,  120,   26],\n",
       "         [ 120,  120,  151,  210,  151,  120,  120,   26],\n",
       "         [ 120,  120,  151,  120,  120,  120,  120,   26],\n",
       "         [ 120,  120,  151,  120,  151,  120,  151,  120],\n",
       "         [ 120,  120,  151,  120,  151,  120,  151,   26],\n",
       "         [ 120,  120,  151,  120,  120,  120,  120,   26]]])"
      ]
     },
     "execution_count": 160,
     "metadata": {},
     "output_type": "execute_result"
    }
   ],
   "source": []
  },
  {
   "cell_type": "code",
   "execution_count": 71,
   "metadata": {},
   "outputs": [
    {
     "data": {
      "text/plain": [
       "tensor([[[ 1, 19, 19, 19],\n",
       "         [19, 27, 19, 19],\n",
       "         [19, 19, 19, 19],\n",
       "         [19, 19, 19, 19]]])"
      ]
     },
     "execution_count": 71,
     "metadata": {},
     "output_type": "execute_result"
    }
   ],
   "source": [
    "t_codes"
   ]
  },
  {
   "cell_type": "code",
   "execution_count": 106,
   "metadata": {},
   "outputs": [
    {
     "data": {
      "text/plain": [
       "torch.Size([1, 1])"
      ]
     },
     "execution_count": 106,
     "metadata": {},
     "output_type": "execute_result"
    }
   ],
   "source": [
    "\n",
    "class_label.size()"
   ]
  },
  {
   "cell_type": "code",
   "execution_count": null,
   "metadata": {},
   "outputs": [],
   "source": []
  }
 ],
 "metadata": {
  "kernelspec": {
   "display_name": "Python 3.8.13 ('scribeaudio')",
   "language": "python",
   "name": "python3"
  },
  "language_info": {
   "codemirror_mode": {
    "name": "ipython",
    "version": 3
   },
   "file_extension": ".py",
   "mimetype": "text/x-python",
   "name": "python",
   "nbconvert_exporter": "python",
   "pygments_lexer": "ipython3",
   "version": "3.8.13"
  },
  "orig_nbformat": 4,
  "vscode": {
   "interpreter": {
    "hash": "2f3c9d10c99496a3ac3cabc649fcf9b10a5a89d2a2d61e25531021e2bac6c02e"
   }
  }
 },
 "nbformat": 4,
 "nbformat_minor": 2
}
